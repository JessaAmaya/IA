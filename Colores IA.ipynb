{
 "cells": [
  {
   "cell_type": "code",
   "execution_count": 1,
   "id": "93b3b280",
   "metadata": {},
   "outputs": [],
   "source": [
    "import cv2 as cv\n",
    "import numpy as np"
   ]
  },
  {
   "cell_type": "code",
   "execution_count": 3,
   "id": "6b5cc69c",
   "metadata": {},
   "outputs": [],
   "source": [
    "img = cv.imread ('C:/Users/jessa/Desktop/7-5 semestre/Ultimo/IA/spiderman.jpg')\n",
    "cv.imshow('spiderman', img)\n",
    "cv.waitKey(0)\n",
    "cv.destroyAllWindows()"
   ]
  },
  {
   "cell_type": "code",
   "execution_count": 22,
   "id": "a0a9714b",
   "metadata": {},
   "outputs": [
    {
     "name": "stdout",
     "output_type": "stream",
     "text": [
      "(1080, 1920)\n"
     ]
    }
   ],
   "source": [
    "img = cv.imread('C:/Users/jessa/Desktop/7-5 semestre/Ultimo/IA/spiderman.jpg',0)\n",
    "print(img.shape)\n",
    "w, h = img.shape\n",
    "cv.imshow('Ejemplo', img)\n",
    "for i in range(w):\n",
    "    for j in range(h):\n",
    "        img[i,j]=255-img[i,j]\n",
    "cv.imshow('Ejemplo', img)\n",
    "cv.waitKey(0)\n",
    "cv.destroyAllWindows()"
   ]
  },
  {
   "cell_type": "code",
   "execution_count": null,
   "id": "825dffd4",
   "metadata": {},
   "outputs": [],
   "source": [
    "img = cv.imread('C:/Users/jessa/Desktop/7-5 semestre/Ultimo/IA/spiderman.jpg',0)\n",
    "w,h = img.shape[:2]\n",
    "img2 = np.zeros((w*2, h*2), dtype='uint8')\n",
    "cv.imshow('img',img)\n",
    "cv.imshow('img2',img2)\n",
    "cv.waitKey(0)\n",
    "cv.destroyAllWindows()"
   ]
  },
  {
   "cell_type": "code",
   "execution_count": 25,
   "id": "2ae6205e",
   "metadata": {},
   "outputs": [],
   "source": [
    "#Esta escalando la imagen\n",
    "img = cv.imread('C:/Users/jessa/Desktop/7-5 semestre/Ultimo/IA/spiderman.jpg',0)\n",
    "w,h = img.shape[:2]\n",
    "img2 = np.zeros((w*3, h*3), dtype='uint8')\n",
    "for i in range(w):\n",
    "    for j in range(h):\n",
    "        img2[i*3, j*3] = img[i,j]\n",
    "cv.imshow('img',img)\n",
    "cv.imshow('img2',img2)\n",
    "cv.waitKey(0)\n",
    "cv.destroyAllWindows()"
   ]
  },
  {
   "cell_type": "code",
   "execution_count": 26,
   "id": "93d6a7d2",
   "metadata": {},
   "outputs": [],
   "source": [
    "#Para mover la imagen unos cuentos pixeles a un lado\n",
    "img = cv.imread('C:/Users/jessa/Desktop/7-5 semestre/Ultimo/IA/spiderman.jpg',0)\n",
    "w,h = img.shape[:2]\n",
    "img2 = np.zeros((w, h), dtype='uint8')*150\n",
    "for i in range(w):\n",
    "    for j in range(h):\n",
    "        img2[int(i*0.5)+100, int (j*0.5)+100] = img[i,j]\n",
    "cv.imshow('img',img)\n",
    "cv.imshow('img2',img2)\n",
    "cv.waitKey(0)\n",
    "cv.destroyAllWindows()"
   ]
  },
  {
   "cell_type": "code",
   "execution_count": 2,
   "id": "cda7c6ab",
   "metadata": {},
   "outputs": [],
   "source": [
    "#esta deberia ir hasta arriba jaja para despues llamarla\n",
    "def escala(imx, escala):\n",
    "    width = int(imx.shape[1] * escala / 100)\n",
    "    height = int (imx.shape[0] * escala / 100)\n",
    "    size = (width, height)\n",
    "    im = cv.resize(imx, size, interpolation = cv.INTER_AREA)\n",
    "    return im"
   ]
  },
  {
   "cell_type": "code",
   "execution_count": 28,
   "id": "f54ad05d",
   "metadata": {},
   "outputs": [],
   "source": [
    "#separa la imagen por canales de colores\n",
    "img = cv.imread('C:/Users/jessa/Desktop/7-5 semestre/Ultimo/IA/spiderman.jpg',1)\n",
    "w,h = img.shape[:2]\n",
    "img2 = np.zeros((w, h), dtype='uint8')\n",
    "r,g,b = cv.split(img)\n",
    "r = cv.merge([r, img2,img2])\n",
    "g = cv.merge([img2, g,img2])\n",
    "b = cv.merge([img2, img2,b])\n",
    "\n",
    "cv.imshow('r',r)\n",
    "cv.imshow('g',g)\n",
    "cv.imshow('b',b)\n",
    "\n",
    "cv.waitKey(0)\n",
    "cv.destroyAllWindows()"
   ]
  },
  {
   "cell_type": "code",
   "execution_count": 29,
   "id": "dee325cd",
   "metadata": {},
   "outputs": [],
   "source": [
    "#Para intercambiar los colores de la imagen\n",
    "img = cv.imread('C:/Users/jessa/Desktop/7-5 semestre/Ultimo/IA/spiderman.jpg',1)\n",
    "w,h = img.shape[:2]\n",
    "img2 = np.zeros((w, h), dtype='uint8')\n",
    "r,g,b = cv.split(img)\n",
    "#r = cv.merge([r, img2,img2])\n",
    "#g = cv.merge([img2, g,img2])\n",
    "#b = cv.merge([img2, img2,b])\n",
    "\n",
    "r1 = cv.merge([g,r,b])\n",
    "g1 = cv.merge([r,b,g])\n",
    "b1 = cv.merge([b,g,r])\n",
    "\n",
    "cv.imshow('r',r1)\n",
    "cv.imshow('g',g1)\n",
    "cv.imshow('b',b1)\n",
    "\n",
    "cv.waitKey(0)\n",
    "cv.destroyAllWindows()"
   ]
  },
  {
   "cell_type": "code",
   "execution_count": 15,
   "id": "ba37ab2f",
   "metadata": {},
   "outputs": [],
   "source": [
    "img = cv.imread ('C:/Users/jessa/Desktop/7-5 semestre/Ultimo/IA/spiderman.jpg',1)\n",
    "img2 = cv.cvtColor(img, cv.COLOR_BGR2HSV)\n",
    "ubb = (0,60,60)\n",
    "uba = (10,255,255)\n",
    "mask = cv.inRange(img2,ubb,uba)\n",
    "img3 = cv.bitwise_and(img,img,mask = mask)\n",
    "cv.imshow('spiderman', img3)\n",
    "cv.waitKey(0)\n",
    "cv.destroyAllWindows()"
   ]
  },
  {
   "cell_type": "code",
   "execution_count": 17,
   "id": "cf91787c",
   "metadata": {},
   "outputs": [],
   "source": [
    "img = cv.imread ('C:/Users/jessa/Desktop/7-5 semestre/Ultimo/IA/spiderman.jpg',1)\n",
    "img2 = cv.cvtColor(img, cv.COLOR_BGR2HSV)\n",
    "ubb = (0,60,60)\n",
    "uba = (10,255,255)\n",
    "ubb1 = (170,60,60)\n",
    "uba1 = (180,255,255)\n",
    "mask1 = cv.inRange(img2,ubb,uba)\n",
    "mask2 = cv.inRange(img2,ubb1,uba1)\n",
    "mask3 = mask1 + mask2\n",
    "img3 = cv.bitwise_and(img,img,mask = mask)\n",
    "cv.imshow('img2', img2)\n",
    "cv.imshow('img', img)\n",
    "cv.imshow('img3', img3)\n",
    "cv.waitKey(0)\n",
    "cv.destroyAllWindows()"
   ]
  },
  {
   "cell_type": "code",
   "execution_count": 4,
   "id": "0686cc8e",
   "metadata": {},
   "outputs": [],
   "source": [
    "img = cv.imread('C:/Users/jessa/Desktop/7-5 semestre/Ultimo/IA/spiderman.jpg',1)\n",
    "img2 = cv.cvtColor(img, cv.COLOR_BGR2HSV)\n",
    "ubb=(0,60,60)\n",
    "uba=(10, 255,255)\n",
    "ubb1=(170,60,60)\n",
    "uba1=(180,255,255)\n",
    "mask1 = cv.inRange(img2, ubb, uba)\n",
    "mask2 = cv.inRange(img2, ubb1, uba1)\n",
    "mask3 = mask1 + mask2\n",
    "img3 = cv.bitwise_and(img,img, mask=mask3)\n",
    "cv.imshow('img2', img2)\n",
    "cv.imshow('img', img)\n",
    "cv.imshow('img3', img3)\n",
    "cv.imshow('mask3', mask3)\n",
    "cv.imshow('mask2', mask2)\n",
    "cv.imshow('mask1', mask1)\n",
    " \n",
    "cv.waitKey(0)\n",
    "cv.destroyAllWindows()"
   ]
  },
  {
   "cell_type": "code",
   "execution_count": 3,
   "id": "d4a04f8a",
   "metadata": {},
   "outputs": [],
   "source": [
    "cap = cv.VideoCapture(0)\n",
    "while(True):\n",
    "    ret, img = cap.read()\n",
    "    if ret == True:\n",
    "        cv.imshow('video', img)\n",
    "        k = cv.waitKey(1) & 0xFF\n",
    "        if k == 27:\n",
    "            break\n",
    "        else:\n",
    "            break\n",
    "    cap.release()\n",
    "    cv.destroyAllWindows()"
   ]
  },
  {
   "cell_type": "code",
   "execution_count": 3,
   "id": "d5809f0a",
   "metadata": {},
   "outputs": [
    {
     "ename": "AttributeError",
     "evalue": "module 'cv2' has no attribute 'Color'",
     "output_type": "error",
     "traceback": [
      "\u001b[1;31m---------------------------------------------------------------------------\u001b[0m",
      "\u001b[1;31mAttributeError\u001b[0m                            Traceback (most recent call last)",
      "Cell \u001b[1;32mIn[3], line 4\u001b[0m\n\u001b[0;32m      2\u001b[0m \u001b[38;5;28;01mwhile\u001b[39;00m(\u001b[38;5;28;01mTrue\u001b[39;00m):\n\u001b[0;32m      3\u001b[0m     ret, img \u001b[38;5;241m=\u001b[39m cap\u001b[38;5;241m.\u001b[39mread()\n\u001b[1;32m----> 4\u001b[0m     img2 \u001b[38;5;241m=\u001b[39m cv\u001b[38;5;241m.\u001b[39mColor(img, cv\u001b[38;5;241m.\u001b[39mCOLOR_BGR2HSV)\n\u001b[0;32m      5\u001b[0m     \u001b[38;5;28;01mif\u001b[39;00m ret \u001b[38;5;241m==\u001b[39m \u001b[38;5;28;01mTrue\u001b[39;00m:\n\u001b[0;32m      6\u001b[0m         cv\u001b[38;5;241m.\u001b[39mimshow(\u001b[38;5;124m'\u001b[39m\u001b[38;5;124mvideo\u001b[39m\u001b[38;5;124m'\u001b[39m, img)\n",
      "\u001b[1;31mAttributeError\u001b[0m: module 'cv2' has no attribute 'Color'"
     ]
    }
   ],
   "source": [
    "cap = cv.VideoCapture(0)\n",
    "while(True):\n",
    "    ret, img = cap.read()\n",
    "    img2 = cv.Color(img, cv.COLOR_BGR2HSV)\n",
    "    if ret == True:\n",
    "        cv.imshow('video', img)\n",
    "        k = cv.waitKey(1) & 0xFF\n",
    "        if k == 27:\n",
    "            break\n",
    "        else:\n",
    "            break\n",
    "    cap.release()\n",
    "    cv.destroyAllWindows()"
   ]
  },
  {
   "cell_type": "code",
   "execution_count": 6,
   "id": "da477c8e",
   "metadata": {},
   "outputs": [
    {
     "ename": "KeyboardInterrupt",
     "evalue": "",
     "output_type": "error",
     "traceback": [
      "\u001b[1;31m---------------------------------------------------------------------------\u001b[0m",
      "\u001b[1;31mKeyboardInterrupt\u001b[0m                         Traceback (most recent call last)",
      "Cell \u001b[1;32mIn[6], line 13\u001b[0m\n\u001b[0;32m     11\u001b[0m cv\u001b[38;5;241m.\u001b[39mimshow(\u001b[38;5;124m'\u001b[39m\u001b[38;5;124mg\u001b[39m\u001b[38;5;124m'\u001b[39m, g)\n\u001b[0;32m     12\u001b[0m cv\u001b[38;5;241m.\u001b[39mimshow(\u001b[38;5;124m'\u001b[39m\u001b[38;5;124mb\u001b[39m\u001b[38;5;124m'\u001b[39m, b)\n\u001b[1;32m---> 13\u001b[0m k \u001b[38;5;241m=\u001b[39mcv\u001b[38;5;241m.\u001b[39mwaitKey(\u001b[38;5;241m20\u001b[39m) \u001b[38;5;241m&\u001b[39m \u001b[38;5;241m0xFF\u001b[39m\n\u001b[0;32m     14\u001b[0m \u001b[38;5;28;01mif\u001b[39;00m k \u001b[38;5;241m==\u001b[39m \u001b[38;5;241m27\u001b[39m :\n\u001b[0;32m     15\u001b[0m     \u001b[38;5;28;01mbreak\u001b[39;00m\n",
      "\u001b[1;31mKeyboardInterrupt\u001b[0m: "
     ]
    }
   ],
   "source": [
    "cap = cv.VideoCapture(0)\n",
    "while(True):\n",
    "    ret, img = cap.read()\n",
    "    r,g,b = cv.split(img)\n",
    "    #img2 = cv.cvtColor(img, cv.COLOR_BGR2HSV)\n",
    " \n",
    "    if ret == True:\n",
    "        cv.imshow('video2', img2)\n",
    "        cv.imshow('video', img)\n",
    "        cv.imshow('r', r)\n",
    "        cv.imshow('g', g)\n",
    "        cv.imshow('b', b)\n",
    "        k =cv.waitKey(20) & 0xFF\n",
    "        if k == 27 :\n",
    "            break\n",
    "    else:\n",
    "        break\n",
    "cap.release()\n",
    "cv.destroyAllWindows()"
   ]
  },
  {
   "cell_type": "code",
   "execution_count": 1,
   "id": "c925e23d",
   "metadata": {},
   "outputs": [
    {
     "ename": "NameError",
     "evalue": "name 'cv' is not defined",
     "output_type": "error",
     "traceback": [
      "\u001b[1;31m---------------------------------------------------------------------------\u001b[0m",
      "\u001b[1;31mNameError\u001b[0m                                 Traceback (most recent call last)",
      "Cell \u001b[1;32mIn[1], line 2\u001b[0m\n\u001b[0;32m      1\u001b[0m \u001b[38;5;66;03m# Cargar el clasificador de cascada para la detección de rostros (se debe especificar la ruta del archivo xml)\u001b[39;00m\n\u001b[1;32m----> 2\u001b[0m rostro \u001b[38;5;241m=\u001b[39m cv\u001b[38;5;241m.\u001b[39mCascadeClassifier(\u001b[38;5;124m'\u001b[39m\u001b[38;5;124mC:/Users/jessa/Desktop/7-5 semestre/Ultimo/IA/haarcascade_frontalface_alt.xml\u001b[39m\u001b[38;5;124m'\u001b[39m)\n\u001b[0;32m      4\u001b[0m \u001b[38;5;66;03m# Función para abrir la cámara para capturar video\u001b[39;00m\n\u001b[0;32m      5\u001b[0m cap \u001b[38;5;241m=\u001b[39m cv\u001b[38;5;241m.\u001b[39mVideoCapture(\u001b[38;5;241m0\u001b[39m)\n",
      "\u001b[1;31mNameError\u001b[0m: name 'cv' is not defined"
     ]
    }
   ],
   "source": [
    "# Cargar el clasificador de cascada para la detección de rostros (se debe especificar la ruta del archivo xml)\n",
    "rostro = cv.CascadeClassifier('C:/Users/jessa/Desktop/7-5 semestre/Ultimo/IA/haarcascade_frontalface_alt.xml')\n",
    "\n",
    "# Función para abrir la cámara para capturar video\n",
    "cap = cv.VideoCapture(0)\n",
    "\n",
    "# Bucle para capturar y procesar video continuamente\n",
    "while True:\n",
    "    # Lee un fotograma del video constantemente\n",
    "    ret, frame = cap.read()\n",
    "    \n",
    "    # Converte el fotograma a escala de grises\n",
    "    gray = cv.cvtColor(frame, cv.COLOR_BGR2GRAY)\n",
    "    \n",
    "    # Detecta los rostros en la imagen en escala de grises\n",
    "    rostros = rostro.detectMultiScale(gray, 1.3, 5)\n",
    "    \n",
    "    # Dibujar un rectángulo alrededor de cada rostro detectado\n",
    "    for (x, y, w, h) in rostros:\n",
    "        frame = cv.rectangle(frame, (x, y), (x+w, y+h), (0, 255, 0), 2)\n",
    "    \n",
    "    # Mostrar la imagen con los rectángulos alrededor de los rostros\n",
    "    cv.imshow('rostros', frame)\n",
    "    \n",
    "    # Esperar 1 milisegundo para que se presione una tecla\n",
    "    k = cv.waitKey(1)\n",
    "    # Si la tecla presionada es 'Esc' (código ASCII 27), salir del bucle\n",
    "    if k == 27:\n",
    "        break\n",
    "\n",
    "# Liberar los recursos de la cámara\n",
    "cap.release()\n",
    "# Cerrar todas las ventanas mostradas\n",
    "cv.destroyAllWindows()"
   ]
  },
  {
   "cell_type": "code",
   "execution_count": 2,
   "id": "20632fca",
   "metadata": {},
   "outputs": [
    {
     "ename": "NameError",
     "evalue": "name 'cv' is not defined",
     "output_type": "error",
     "traceback": [
      "\u001b[1;31m---------------------------------------------------------------------------\u001b[0m",
      "\u001b[1;31mNameError\u001b[0m                                 Traceback (most recent call last)",
      "Cell \u001b[1;32mIn[2], line 2\u001b[0m\n\u001b[0;32m      1\u001b[0m \u001b[38;5;66;03m# Cargar el clasificador de cascada para la detección de rostros (se debe especificar la ruta del archivo xml)\u001b[39;00m\n\u001b[1;32m----> 2\u001b[0m rostro \u001b[38;5;241m=\u001b[39m cv\u001b[38;5;241m.\u001b[39mCascadeClassifier(\u001b[38;5;124m'\u001b[39m\u001b[38;5;124mC:/Users/jessa/Desktop/7-5 semestre/Ultimo/IA/haarcascade_frontalface_alt.xml\u001b[39m\u001b[38;5;124m'\u001b[39m)\n\u001b[0;32m      4\u001b[0m \u001b[38;5;66;03m# Función para abrir la cámara para capturar video\u001b[39;00m\n\u001b[0;32m      5\u001b[0m cap \u001b[38;5;241m=\u001b[39m cv\u001b[38;5;241m.\u001b[39mVideoCapture(\u001b[38;5;241m0\u001b[39m)\n",
      "\u001b[1;31mNameError\u001b[0m: name 'cv' is not defined"
     ]
    }
   ],
   "source": [
    "# Cargar el clasificador de cascada para la detección de rostros (se debe especificar la ruta del archivo xml)\n",
    "rostro = cv.CascadeClassifier('C:/Users/jessa/Desktop/7-5 semestre/Ultimo/IA/haarcascade_frontalface_alt.xml')\n",
    "\n",
    "# Función para abrir la cámara para capturar video\n",
    "cap = cv.VideoCapture(0)\n",
    "\n",
    "# Bucle para capturar y procesar video continuamente\n",
    "while True:\n",
    "    # Lee un fotograma del video constantemente\n",
    "    ret, frame = cap.read()\n",
    "    \n",
    "    # Converte el fotograma a escala de grises\n",
    "    gray = cv.cvtColor(frame, cv.COLOR_BGR2GRAY)\n",
    "    \n",
    "    # Detecta los rostros en la imagen en escala de grises\n",
    "    rostros = rostro.detectMultiScale(gray, 1.3, 5)\n",
    "    \n",
    "    # Dibujar un rectángulo alrededor de cada rostro detectado\n",
    "    for (x, y, w, h) in rostros:\n",
    "        frame = cv.rectangle(frame, (x, y), (x+w, y+h), (0, 255, 0), 2)\n",
    "    \n",
    "    # Mostrar la imagen con los rectángulos alrededor de los rostros\n",
    "    cv.imshow('rostros', frame)\n",
    "    \n",
    "    # Esperar 1 milisegundo para que se presione una tecla\n",
    "    k = cv.waitKey(1)\n",
    "    # Si la tecla presionada es 'Esc' (código ASCII 27), salir del bucle\n",
    "    if k == 27:\n",
    "        break\n",
    "\n",
    "# Liberar los recursos de la cámara\n",
    "cap.release()\n",
    "# Cerrar todas las ventanas mostradas\n",
    "cv.destroyAllWindows()"
   ]
  },
  {
   "cell_type": "code",
   "execution_count": 3,
   "id": "a00bb223",
   "metadata": {},
   "outputs": [],
   "source": [
    "# PARA TOMAR LAS FOTOS\n",
    "rostro = cv.CascadeClassifier('C:/Users/jessa/Desktop/7-5 semestre/Ultimo/IA/haarcascade_frontalface_alt.xml')\n",
    "cap = cv.VideoCapture(0)\n",
    "i = 0 \n",
    "while True:\n",
    "    ret, frame = cap.read()\n",
    "    gray = cv.cvtColor(frame, cv.COLOR_BGR2GRAY)\n",
    "    rostros = rostro.detectMultiScale(gray, 1.3, 5)\n",
    "    for(x, y, w, h) in rostros:\n",
    "        #frame = cv.rectangle(frame, (x,y), (x+w, y+h), (0, 255, 0), 2)\n",
    "        frame2 = frame[y:y+h, x:x+w]\n",
    "        #cv.imshow('rostros2', frame2)\n",
    "        frame2 = cv.resize(frame2, (100,100), interpolation = cv.INTER_AREA)\n",
    "        cv.imwrite('C:/Users/jessa/Desktop/7-5 semestre/Ultimo/IA/caras/jessa/img'+str(i)+'.png', frame2)\n",
    "        \n",
    "    cv.imshow('rostros', frame)\n",
    "    i=i+1\n",
    "    k = cv.waitKey(1)\n",
    "    if k == 27:\n",
    "        break\n",
    "cap.release()\n",
    "cv.destroyAllWindows()"
   ]
  },
  {
   "cell_type": "code",
   "execution_count": 1,
   "id": "8eb7f118",
   "metadata": {},
   "outputs": [
    {
     "name": "stdout",
     "output_type": "stream",
     "text": [
      "['Jessa']\n",
      "270\n"
     ]
    },
    {
     "ename": "AttributeError",
     "evalue": "module 'cv2' has no attribute 'face'",
     "output_type": "error",
     "traceback": [
      "\u001b[1;31m---------------------------------------------------------------------------\u001b[0m",
      "\u001b[1;31mAttributeError\u001b[0m                            Traceback (most recent call last)",
      "Cell \u001b[1;32mIn[1], line 20\u001b[0m\n\u001b[0;32m     17\u001b[0m     label \u001b[38;5;241m=\u001b[39m label \u001b[38;5;241m+\u001b[39m \u001b[38;5;241m1\u001b[39m\n\u001b[0;32m     18\u001b[0m \u001b[38;5;28mprint\u001b[39m(np\u001b[38;5;241m.\u001b[39mcount_nonzero(np\u001b[38;5;241m.\u001b[39marray(labels)\u001b[38;5;241m==\u001b[39m\u001b[38;5;241m0\u001b[39m)) \n\u001b[1;32m---> 20\u001b[0m faceRecognizer \u001b[38;5;241m=\u001b[39m cv\u001b[38;5;241m.\u001b[39mface\u001b[38;5;241m.\u001b[39mEigenFaceRecognizer_create()\n\u001b[0;32m     21\u001b[0m faceRecognizer\u001b[38;5;241m.\u001b[39mtrain(facesData, np\u001b[38;5;241m.\u001b[39marray(labels))\n\u001b[0;32m     22\u001b[0m faceRecognizer\u001b[38;5;241m.\u001b[39mwrite(\u001b[38;5;124m'\u001b[39m\u001b[38;5;124mC:\u001b[39m\u001b[38;5;130;01m\\\\\u001b[39;00m\u001b[38;5;124mUsers\u001b[39m\u001b[38;5;130;01m\\\\\u001b[39;00m\u001b[38;5;124mjessa\u001b[39m\u001b[38;5;130;01m\\\\\u001b[39;00m\u001b[38;5;124mDesktop\u001b[39m\u001b[38;5;130;01m\\\\\u001b[39;00m\u001b[38;5;124m7-5 semestre\u001b[39m\u001b[38;5;130;01m\\\\\u001b[39;00m\u001b[38;5;124mUltimo\u001b[39m\u001b[38;5;130;01m\\\\\u001b[39;00m\u001b[38;5;124mIA\u001b[39m\u001b[38;5;130;01m\\\\\u001b[39;00m\u001b[38;5;124mEigenface.xml\u001b[39m\u001b[38;5;124m'\u001b[39m)\n",
      "\u001b[1;31mAttributeError\u001b[0m: module 'cv2' has no attribute 'face'"
     ]
    }
   ],
   "source": [
    "# Creacion de xml pero no jala\n",
    "import cv2 as cv\n",
    "import numpy as np\n",
    "import os\n",
    "\n",
    "dataSet = 'C:\\\\Users\\\\jessa\\\\Desktop\\\\7-5 semestre\\\\Ultimo\\\\IA\\\\caras'\n",
    "faces  = os.listdir(dataSet)\n",
    "print(faces)\n",
    "\n",
    "labels = []\n",
    "facesData = []\n",
    "label = 0 \n",
    "for face in faces:\n",
    "    facePath = dataSet+'\\\\'+face\n",
    "    for faceName in os.listdir(facePath):\n",
    "        labels.append(label)\n",
    "        facesData.append(cv.imread(facePath+'/'+faceName,0))\n",
    "    label = label + 1\n",
    "print(np.count_nonzero(np.array(labels)==0)) \n",
    "\n",
    "faceRecognizer = cv.face.EigenFaceRecognizer_create()\n",
    "faceRecognizer.train(facesData, np.array(labels))\n",
    "faceRecognizer.write('C:\\\\Users\\\\jessa\\\\Desktop\\\\7-5 semestre\\\\Ultimo\\\\IA\\\\Eigenface.xml')"
   ]
  },
  {
   "cell_type": "code",
   "execution_count": 2,
   "id": "3df33195",
   "metadata": {},
   "outputs": [
    {
     "ename": "AttributeError",
     "evalue": "module 'cv2' has no attribute 'face'",
     "output_type": "error",
     "traceback": [
      "\u001b[1;31m---------------------------------------------------------------------------\u001b[0m",
      "\u001b[1;31mAttributeError\u001b[0m                            Traceback (most recent call last)",
      "Cell \u001b[1;32mIn[2], line 5\u001b[0m\n\u001b[0;32m      2\u001b[0m \u001b[38;5;28;01mimport\u001b[39;00m \u001b[38;5;21;01mnumpy\u001b[39;00m \u001b[38;5;28;01mas\u001b[39;00m \u001b[38;5;21;01mnp\u001b[39;00m\n\u001b[0;32m      3\u001b[0m \u001b[38;5;28;01mimport\u001b[39;00m \u001b[38;5;21;01mos\u001b[39;00m \n\u001b[1;32m----> 5\u001b[0m faceRecognizer \u001b[38;5;241m=\u001b[39m cv\u001b[38;5;241m.\u001b[39mface\u001b[38;5;241m.\u001b[39mEigenFaceRecognizer_create()\n\u001b[0;32m      6\u001b[0m faceRecognizer\u001b[38;5;241m.\u001b[39mread(\u001b[38;5;124m'\u001b[39m\u001b[38;5;124mC:\u001b[39m\u001b[38;5;130;01m\\\\\u001b[39;00m\u001b[38;5;124mUsers\u001b[39m\u001b[38;5;130;01m\\\\\u001b[39;00m\u001b[38;5;124mjessa\u001b[39m\u001b[38;5;130;01m\\\\\u001b[39;00m\u001b[38;5;124mDesktop\u001b[39m\u001b[38;5;130;01m\\\\\u001b[39;00m\u001b[38;5;124m7-5 semestre\u001b[39m\u001b[38;5;130;01m\\\\\u001b[39;00m\u001b[38;5;124mUltimo\u001b[39m\u001b[38;5;130;01m\\\\\u001b[39;00m\u001b[38;5;124mIA\u001b[39m\u001b[38;5;130;01m\\\\\u001b[39;00m\u001b[38;5;124mEigenface.xml\u001b[39m\u001b[38;5;124m'\u001b[39m)\n\u001b[0;32m      8\u001b[0m cap \u001b[38;5;241m=\u001b[39m cv\u001b[38;5;241m.\u001b[39mVideoCapture(\u001b[38;5;241m0\u001b[39m)\n",
      "\u001b[1;31mAttributeError\u001b[0m: module 'cv2' has no attribute 'face'"
     ]
    }
   ],
   "source": [
    "import cv2 as cv\n",
    "import numpy as np\n",
    "import os \n",
    "\n",
    "faceRecognizer = cv.face.EigenFaceRecognizer_create()\n",
    "faceRecognizer.read('C:\\\\Users\\\\jessa\\\\Desktop\\\\7-5 semestre\\\\Ultimo\\\\IA\\\\Eigenface.xml')\n",
    "\n",
    "cap = cv.VideoCapture(0)\n",
    "rostro = cv.CascadeClassifier('C:\\\\Users\\\\jessa\\\\Desktop\\\\7-5 semestre\\\\Ultimo\\\\IA\\\\haarcascade_frontalface_alt.xml')\n",
    "while True:\n",
    "    ret, frame = cap.read()\n",
    "    if ret == False: break\n",
    "    gray = cv.cvtColor(frame, cv.COLOR_BGR2GRAY)\n",
    "    cpGray = gray.copy()\n",
    "    rostros = rostro.detectMultiScale(gray, 1.3, 3)\n",
    "    for(x, y, w, h) in rostros:\n",
    "        frame2 = cpGray[y:y+h, x:x+w]\n",
    "        frame2 = cv.resize(frame2,  (100,100), interpolation=cv.INTER_CUBIC)\n",
    "        result = faceRecognizer.predict(frame2)\n",
    "        #cv.putText(frame, '{}'.format(result), (x,y-20), 1,3.3, (0,0,0), 1, cv.LINE_AA)\n",
    "        if result[1] > 2800:\n",
    "            cv.putText(frame,'{}'.format(faces[result[0]]),(x,y-25),2,1.1,(0,255,0),1,cv.LINE_AA)\n",
    "            cv.rectangle(frame, (x,y),(x+w,y+h),(0,255,0),2)\n",
    "        else:\n",
    "            cv.putText(frame,'Desconocido',(x,y-20),2,0.8,(0,0,255),1,cv.LINE_AA)\n",
    "            cv.rectangle(frame, (x,y),(x+w,y+h),(0,0,255),2)\n",
    "    cv.imshow('frame', frame)\n",
    "    k = cv.waitKey(1)\n",
    "    if k == 27:\n",
    "        break\n",
    "cap.release()\n",
    "cv.destroyAllWindows()"
   ]
  },
  {
   "cell_type": "code",
   "execution_count": null,
   "id": "807be138",
   "metadata": {},
   "outputs": [],
   "source": []
  }
 ],
 "metadata": {
  "kernelspec": {
   "display_name": "Python 3 (ipykernel)",
   "language": "python",
   "name": "python3"
  },
  "language_info": {
   "codemirror_mode": {
    "name": "ipython",
    "version": 3
   },
   "file_extension": ".py",
   "mimetype": "text/x-python",
   "name": "python",
   "nbconvert_exporter": "python",
   "pygments_lexer": "ipython3",
   "version": "3.11.4"
  }
 },
 "nbformat": 4,
 "nbformat_minor": 5
}
